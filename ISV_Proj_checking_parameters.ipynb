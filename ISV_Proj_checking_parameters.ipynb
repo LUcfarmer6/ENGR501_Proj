{
  "nbformat": 4,
  "nbformat_minor": 0,
  "metadata": {
    "colab": {
      "name": "ISV_Proj.ipynb",
      "provenance": [],
      "collapsed_sections": [],
      "include_colab_link": true
    },
    "kernelspec": {
      "display_name": "Python 3",
      "name": "python3"
    },
    "accelerator": "GPU"
  },
  "cells": [
    {
      "cell_type": "markdown",
      "metadata": {
        "id": "view-in-github",
        "colab_type": "text"
      },
      "source": [
        "<a href=\"https://colab.research.google.com/github/LUcfarmer6/Numerical_Methods_Proj/blob/master/ISV_Proj_checking_parameters.ipynb\" target=\"_parent\"><img src=\"https://colab.research.google.com/assets/colab-badge.svg\" alt=\"Open In Colab\"/></a>"
      ]
    },
    {
      "cell_type": "markdown",
      "metadata": {
        "id": "kxc5UOD7Sg6s"
      },
      "source": [
        " --------------------------------------------------------------\n",
        "   # Numerical Methods ISV Model Using Newton-Raphson Method -- TESTING\n",
        "--------------------------------------------------------------\n",
        "\n",
        "Description:\n",
        "This model utilizes a set of material constants ($C_n$ through $C_m$)\n",
        "along with inputs of strain rate and time step to calculate and predict\n",
        "an accurate stress-strain curve for that given material. This is a\n",
        "viscoplastic model (strain-rate sensitive) that uses a Radial-Return\n",
        "scheme to predict deformation elastically, and then correct for any plastic\n",
        "deformation that also occurs. Plastic deformation behavior is governed by\n",
        "the Flow Rule and Isotropic Hardening. These equations may be solved either\n",
        "analytically or numerically (using the Newton-Raphson (N-R) method). The analytical\n",
        "method will be solved first, requiring a much smaller time step for\n",
        "accuracy, while the N-R method is solved second which retains accuracy at\n",
        "much greater time steps. The two methods are then compared and tested to\n",
        "optimize time step, computational time, and accuracy of the resulting curve."
      ]
    },
    {
      "cell_type": "code",
      "metadata": {
        "id": "2kQ9bTiySlRy",
        "colab": {
          "base_uri": "https://localhost:8080/"
        },
        "outputId": "4b6a15dd-71a7-4f56-f27f-8d1005016941"
      },
      "source": [
        "import numpy as np                          \n",
        "import jax\n",
        "import jax.numpy as jnp\n",
        "from jax.experimental import stax\n",
        "from jax.experimental import optimizers\n",
        "\n",
        "from jax.config import config\n",
        "config.update('jax_enable_x64', True)\n",
        "\n",
        "from jax import jit, vmap, grad\n",
        "import timeit\n",
        "import sympy as sp\n",
        "from sympy.physics.vector.printing import vpprint, vlatex\n",
        "from matplotlib import pyplot as plt\n",
        "# !pip install pyplot-themes                  ## CWF - 11102020\n",
        "# import pyplot_themes as themes              ## CWF - 11102020\n",
        "# themes.theme_solarized(scheme=\"dark\")       ## CWF - 11102020\n",
        "import pandas as pd                         ## CWF - 11102020\n",
        "pd.set_option('display.max_rows', None)     ## CWF - 11102020\n",
        "pd.set_option('display.max_columns', None)  ## CWF - 11102020\n",
        "pd.set_option('display.width', None)        ## CWF - 11102020 \n",
        "pd.set_option('display.max_colwidth', -1)   ## CWF - 11102020 \n",
        "columns = [\"State\", \"Delta Sigma\", \"Sigma Trial\", \"Kappa Trial\", \"Beta\", \"Sigma_n1\", \"Kappa_n1\", \"Delta_Epsilon_Plastic_n1\"]    ## CWF - 11102020 \n",
        "final_columns = [\"Sigma\", \"Delta_Epsilon_Plastic\"]\n",
        "df = pd.DataFrame(columns = columns) ## CWF - 11102020\n",
        "plt.close('all')\n",
        "print('DONE')\n",
        "\n",
        "plt.rcParams['figure.figsize'] = [10, 8]"
      ],
      "execution_count": null,
      "outputs": [
        {
          "output_type": "stream",
          "text": [
            "DONE\n"
          ],
          "name": "stdout"
        },
        {
          "output_type": "stream",
          "text": [
            "/usr/local/lib/python3.6/dist-packages/ipykernel_launcher.py:22: FutureWarning: Passing a negative integer is deprecated in version 1.0 and will not be supported in future version. Instead, use None to not limit the column width.\n"
          ],
          "name": "stderr"
        }
      ]
    },
    {
      "cell_type": "markdown",
      "metadata": {
        "id": "2h2xYOizStze"
      },
      "source": [
        "## Model Constants"
      ]
    },
    {
      "cell_type": "code",
      "metadata": {
        "id": "WyHKIaQXSyFt"
      },
      "source": [
        "eps_dot = 1.0               # Strain Rate in Units [1/s]\n",
        "perc_elong = 0.20           # percent elongation [%] / 100\n",
        "N_partitions = 200          # Number of Partitions \n",
        "time_step = perc_elong/eps_dot/N_partitions   # Time step [seconds]\n",
        "T = 296                     # Temperature [Kelvin] (23°C)\n",
        "C = np.ones(19)             # Initializing an array to hold all the material constants\n",
        "sigma_n = [0.0]             # Initial value of stress (should be zero)\n",
        "kappa_n = [0.0]             # Initial value of isotropic hardening (should be zero)\n",
        "delta_eps_p_n = [0.0]       # Initial value of plastic strain (should be zero)\n",
        "mu = 26.9e3                 # Shear modulus [MPa] "
      ],
      "execution_count": null,
      "outputs": []
    },
    {
      "cell_type": "code",
      "metadata": {
        "id": "VSbOpjT03l5A",
        "colab": {
          "base_uri": "https://localhost:8080/"
        },
        "outputId": "5f1efec3-d4c0-4bdc-b44b-7246c0e15179"
      },
      "source": [
        "sigma_n[-1]"
      ],
      "execution_count": null,
      "outputs": [
        {
          "output_type": "execute_result",
          "data": {
            "text/plain": [
              "0.0"
            ]
          },
          "metadata": {
            "tags": []
          },
          "execution_count": 3
        }
      ]
    },
    {
      "cell_type": "markdown",
      "metadata": {
        "id": "cQE06HqaS4Up"
      },
      "source": [
        "Material constants for 7075-T651 Aluminim from [Bammann, 2011 A new approach...]"
      ]
    },
    {
      "cell_type": "code",
      "metadata": {
        "id": "mtmnn9EMS3kC"
      },
      "source": [
        "C = np.ones(19)\n",
        "C[1] = 0.2*312.86   # MPa   V(T)\n",
        "C[2] = 154.78       # K\n",
        "C[3] = 27.2         # MPa     (not used in this code)\n",
        "C[4] = 818.26       # K       (not used in this code)\n",
        "C[5] = 6914.1       # 1/s\n",
        "C[6] = 233.39       # K\n",
        "C[7] = 9.00         # 1/MPa   (not used in this code)\n",
        "C[8] = 1632.34      # K       (not used in this code)\n",
        "C[9] = 148.36       # MPa     (not used in this code)\n",
        "C[10] = 942.28      # K       (not used in this code)\n",
        "C[11] = 100.672     # s/MPa   (not used in this code)\n",
        "C[12] = 2517.12     # K       (not used in this code)\n",
        "C[13] = 0.04*98.53  # 1/MPa Dynamic Recovery\n",
        "C[14] = 171.56      # K\n",
        "C[15] = 50*8950.63 # MPa    Hardening (H)\n",
        "C[16] = 279.18      # K\n",
        "C[17] = 10*7363.75# 1/(s MPa)     (listed as s/MPa) Static Recovery\n",
        "C[18] = 3316.82     # K"
      ],
      "execution_count": null,
      "outputs": []
    },
    {
      "cell_type": "markdown",
      "metadata": {
        "id": "1nEpA-wUTAgk"
      },
      "source": [
        "Equation constants"
      ]
    },
    {
      "cell_type": "code",
      "metadata": {
        "id": "n0kHxrb0S9sG"
      },
      "source": [
        "V = C[1] * jnp.exp(-C[2] / T)               # [MPa]\n",
        "#V = 1            # [MPa]\n",
        "f = C[5] * jnp.exp(-C[6] / T)               # [1/s]\n",
        "#f = 1              # [1/s]\n",
        "R_d = C[13] * jnp.exp(-C[14] / T)           # [1/MPa]\n",
        "H = C[15] * jnp.exp(C[16] / T)              # [MPa]   Note: This eq. is different than the one from Dr. Cho, but it is what is used in this paper. This change approved by Dr. Cho                  \n",
        "R_s = C[17] * jnp.exp(-C[18] / T)           # [1/s*MPa]"
      ],
      "execution_count": null,
      "outputs": []
    },
    {
      "cell_type": "markdown",
      "metadata": {
        "id": "lhfJvjDITLHR"
      },
      "source": [
        "# Radial Return Function"
      ]
    },
    {
      "cell_type": "code",
      "metadata": {
        "id": "SBmvgSAdTIn4"
      },
      "source": [
        "def radialReturn(sigma_n, delta_eps_p_n, kappa_n):          # Defines function inputs from main logical loop\n",
        "    # sigma_tr_n: trial stress from current time iteration\n",
        "    # kappa_n: kappa from current time iteration\n",
        "    # kappa_n1: guess for kappa at next timestep iteration\n",
        "\n",
        "    # First making Elastic prediction\n",
        "    delta_eps_e = eps_dot*time_step             # Elastic strain increment [unitless]\n",
        "    delta_sigma_tr = 2*mu*delta_eps_e           # 2*mu is Lame's constant\n",
        "    # print(delta_eps_e)\n",
        "    # print(\"Delta sigma trial: \", delta_sigma_tr)\n",
        "    # print(\"Delta Sigma: \" + str(delta_sigma_tr))\n",
        "    sigma_tr = sigma_n + delta_sigma_tr         # Stress at next iteration is equal to stress at current iteration plus a change in stress\n",
        "    # print(sigma_n)\n",
        "    # print(\"Sigma Trial: \" + str(sigma_tr))\n",
        "    # kappa_tr = kappa_n-(R_d*delta_eps_p_n+R_s*time_step)*kappa_n**2   # [MPa] Isotropic hardening\n",
        "    kappa_tr = (kappa_n-(R_d*delta_eps_e+R_s*time_step)*kappa_n**2)   # [MPa] Isotropic hardening JMD 11.11.2020 (plastic strain increment here should be equal to the total strain)\n",
        "    kappa_tr = np.maximum(kappa_tr, 0)\n",
        "    # print(\"Kappa Trial: \", kappa_tr)\n",
        "    beta = V * jnp.arcsinh(eps_dot/f)           # [MPa]\n",
        "    # print(\"Beta\", beta)\n",
        "    # alpha = 500.0\n",
        "    Y_f = sigma_tr-kappa_tr-beta          # Yield function. Should be a function of stress, ISV's, and strain rate\n",
        "    State = \"\"                                  # Stores whether in plastic or elastic state ~ CWF 11-10-2020\n",
        "    if Y_f <= 0:                                # If less than zero, deformation is purely elastic\n",
        "        sigma_n1 = sigma_tr                     # Stress at next iteration is equal to stress at current iteration plus a change in stress\n",
        "        delta_eps = delta_eps_e                 # Total strain is equal to the elastic strain\n",
        "        kappa_n1 = kappa_tr\n",
        "        delta_eps_p_n1 = 0\n",
        "        State = \"Elastic\"                       # Store Material State ~ CWF 11-10-2020\n",
        "        # print(\"elastic\")\n",
        "    else:                                         # If yield function greater than zero, plasticity occurs. Must solve for plastic strain numerically\n",
        "        # (reference the N-R method function here to solve plastic strain)\n",
        "        delta_eps_p_guess = delta_eps_p_n            # Initial guess for plastic strain is previous plastic strain\n",
        "        #kappa_n1 = kappa_tr + H * delta_eps_p_n1  # Initial guess of future kappa with initial guess of future plastic strain\n",
        "        kappa_guess = kappa_tr + H * delta_eps_p_guess  # Initial guess of future kappa with initial guess of future plastic strain\n",
        "        x_init = [delta_eps_p_guess, kappa_guess]           # Vector of initial guesses\n",
        "        def fs(Z):    # Z is effectively x_init\n",
        "            result = plasticity(Z, sigma_tr, kappa_n)  # input \"xs\" returns array \"fs\"\n",
        "            return result\n",
        "        res = multivariateNewton(fs, x_init, [0.1,1e-5], 10)  # Perform Newton Method for System \"fs\" with guess  [x0,x1,x2] = [1,1,1] with tol = 1e-8 and N maximum iterations\n",
        "        # print(\"Delta eps_n1: \", res[0], \"\\n Kappa_n1: \", res[1])\n",
        "        # print(fs(res))                            # Print \"fs\" output for system\n",
        "        delta_eps_p_n1 = res[0]                     # stores future delta_eps_p from Newton Raphson\n",
        "        # sigma_n1 = sigma_tr - 2 * mu * delta_eps_p_n1  # stores future stress\n",
        "        sigma_n1 = sigma_tr - 2*mu * delta_eps_p_n1   # stores future stress\n",
        "        # print(\"sigma_n1: \", sigma_n1)\n",
        "        # print('Sigma n1', sigma_n1)\n",
        "        kappa_n1 = res[1]                           # stores future kappa from Newton Raphson's F2\n",
        "        State = \"Plastic\"                           # Store Material State ~ CWF 11-10-2020\n",
        "        # print(\"PLASTIC\")\n",
        "        # print(\"Total Strain: \", delta_eps_e)\n",
        "        # print(\"Plastic Strain Increment: \", delta_eps_p_n1)\n",
        "    df2 = pd.DataFrame([[State, delta_sigma_tr, sigma_tr, kappa_tr, beta, sigma_n1, kappa_n1, delta_eps_p_n1]], columns = columns)  # Create dataframe of current state ~ ## CWF - 11102020 \n",
        "    global df                                       # Import global dataframe ~ ## CWF - 11102020 \n",
        "    df = pd.concat([df2, df], ignore_index=True)    # Added current state to global material history ~ ## CWF - 11102020 \n",
        "    return [sigma_n1, kappa_n1, delta_eps_p_n1]"
      ],
      "execution_count": null,
      "outputs": []
    },
    {
      "cell_type": "markdown",
      "metadata": {
        "id": "AkAdvwnZTQ4L"
      },
      "source": [
        "# Plasticity function for Solving"
      ]
    },
    {
      "cell_type": "markdown",
      "metadata": {
        "id": "nZBSmt6G7LfV"
      },
      "source": [
        "$\\sigma = \\sigma_{tr} - 2 \\mu \\Delta \\varepsilon^p$\n"
      ]
    },
    {
      "cell_type": "code",
      "metadata": {
        "id": "iBedyKKKTPL2"
      },
      "source": [
        "def plasticity(delta_eps_and_kappa, sigma_tr, kappa_n):  # solves using yield function and isotropic hardening equation\n",
        "    delta_eps_p = delta_eps_and_kappa[0]\n",
        "    kappa_n1 = delta_eps_and_kappa[1]\n",
        "    beta = V * jnp.arcsinh(delta_eps_p/time_step/f)\n",
        "    # F1 = sigma_tr-kappa_tr-beta # yield function\n",
        "    sigma = sigma_tr-2*mu*delta_eps_p\n",
        "    # F1 = sigma_tr-kappa_n1-beta # yield function\n",
        "    F1 = sigma-kappa_n1-beta # yield function\n",
        "    F2 = kappa_n+H*delta_eps_p-(R_d*delta_eps_p+R_s*time_step)*kappa_n1**2-kappa_n1\n",
        "    Fs = jnp.asarray([F1, F2])  # Write outputs to function array for logical loop\n",
        "    return Fs"
      ],
      "execution_count": null,
      "outputs": []
    },
    {
      "cell_type": "markdown",
      "metadata": {
        "id": "YfBIwmAdTery"
      },
      "source": [
        "# Multivariate Newton"
      ]
    },
    {
      "cell_type": "code",
      "metadata": {
        "id": "pF47qsYkTVpf"
      },
      "source": [
        "def multivariateNewton(f, x0, tol, N):\n",
        "    x0 = np.asarray(x0).T           # Convert Input Array to Jax Array \n",
        "    def J_inv(W):                   # Create Inverse Jacobian Function\n",
        "        jacobian = jax.jacfwd(f)    # Calculate the jacobian function from the provided systems with Forward Auto-differentiation\n",
        "        J = jacobian(W)             # Calculate the Jacobian at x\n",
        "        J_inv = np.linalg.inv(J)    # Calculate the Inverse Jacobian\n",
        "        return np.asarray(J_inv)    # Return Inverse Jacobian at x as a Jax Array\n",
        "    atol = np.zeros(N)\n",
        "    btol = np.zeros(N)\n",
        "    for k in range(1,N):            # Start Loop for Maximum Iterations\n",
        "        x = np.subtract(x0, np.matmul(J_inv(x0), f(x0).T)) # Perform Newton Iteration: x_{n+1} = x_n-J^(-1)*f\n",
        "        # reltol = jnp.divide(jnp.linalg.norm(jnp.subtract(x,x0), np.inf),jnp.linalg.norm(x, np.inf)) # Calculate: ||x_{n+1}-x_n||/||x_{n+1}||\n",
        "        # atol = np.linalg.norm(np.subtract(x[0],x0[0]), np.inf) # Calculate: ||x_{n+1}-x_n||\n",
        "        atol[k] = x[0]-x0[0]\n",
        "        btol[k] = x[1]-x0[1]        \n",
        "        # print(i, tol)             \n",
        "        if atol[k] < tol[0] and btol[k] < tol[1]:              # Check for convergence\n",
        "            #print(k)              \n",
        "            return x                # Return Result\n",
        "        x0 = x                      # Update x0 for Next iteration\n",
        "        # print(\"Newton: \", k, \"atol: \", atol, \"btol: \", btol)\n",
        "    # plt.plot(atol, N)\n",
        "    # plt.plot(btol, N)\n",
        "    # plt.show()\n",
        "    # plt.close()\n",
        "    # print(\"atol :\", atol[k])\n",
        "    # print('')\n",
        "    # print(\"Kappa: \", x[1])\n",
        "    print(\"Failed to converge\")     # Print Message if Convergence did not occur\n",
        "    return x0"
      ],
      "execution_count": null,
      "outputs": []
    },
    {
      "cell_type": "markdown",
      "metadata": {
        "id": "t8kbb90MTmMQ"
      },
      "source": [
        "# Create Stress-Strain Data"
      ]
    },
    {
      "cell_type": "code",
      "metadata": {
        "id": "Lgb3IepETXya"
      },
      "source": [
        "## Main Logical Loop to build Stress-Strain curve\n",
        "for n in range(0,N_partitions):       # nth timestep partition of strain subdivisions\n",
        "    # sigma_n = sigma_n1              # makes current stress from previous future stress\n",
        "    # delta_eps_p_n = delta_eps_p_n1  # delta_eps_p_k, initially 0, should be output at end of current iteration for future iteration\n",
        "    # kappa_n = kappa_n1              # makes current kappa from previous future kappa\n",
        "    # print(sigma_n[n])\n",
        "    sigma_n1, kappa_n1, delta_eps_p_n1 = radialReturn(sigma_n[-1], delta_eps_p_n[-1], kappa_n[-1])  # calls function with current stress and kappa\n",
        "    # print(\"Sigma n1: \", sigma_n1)\n",
        "    sigma_n.append(sigma_n1)\n",
        "    # print(delta_eps_p_n1)             # JMA3 - 201110\n",
        "    delta_eps_p_n.append(delta_eps_p_n1)\n",
        "    \n",
        "    kappa_n.append(kappa_n1)\n",
        "    # print(sigma_n)\n",
        "    # print(delta_eps_p_n)\n",
        "    # print(n)"
      ],
      "execution_count": null,
      "outputs": []
    },
    {
      "cell_type": "markdown",
      "metadata": {
        "id": "q8WzR5MdanHy"
      },
      "source": [
        "---\n",
        "# Definition of a function to perform the Visco-Plastic analysis\n",
        "---\n",
        "## Function takes inputs and produces a stress strain plot and returns a dataframe containing most of the variables used in the calculation\n",
        "## To access a column of the dataframe use \"df.loc[:,\"column_name\"]\""
      ]
    },
    {
      "cell_type": "markdown",
      "metadata": {
        "id": "lbxDmYYO-SUP"
      },
      "source": [
        "Steady State Stress for Plastic Deformation: $\\sqrt{\\frac{H* \\dot{\\varepsilon}}{R_d*\\dot{\\varepsilon}+R_s}} $"
      ]
    },
    {
      "cell_type": "code",
      "metadata": {
        "id": "pdy65xyYEIgX"
      },
      "source": [
        "def multivariateNewton(f, x0, tol, N):\n",
        "    x0 = np.asarray(x0).T           # Convert Input Array to Jax Array \n",
        "    def J_inv(W):                   # Create Inverse Jacobian Function\n",
        "        jacobian = jax.jacfwd(f)    # Calculate the jacobian function from the provided systems with Forward Auto-differentiation\n",
        "        J = jacobian(W)             # Calculate the Jacobian at x\n",
        "        J_inv = np.linalg.inv(J)    # Calculate the Inverse Jacobian\n",
        "        return np.asarray(J_inv)    # Return Inverse Jacobian at x as a Jax Array\n",
        "    atol = np.zeros(N)\n",
        "    btol = np.zeros(N)\n",
        "    for k in range(1,N):            # Start Loop for Maximum Iterations\n",
        "        x = np.subtract(x0, np.matmul(J_inv(x0), f(x0).T)) # Perform Newton Iteration: x_{n+1} = x_n-J^(-1)*f\n",
        "        # reltol = jnp.divide(jnp.linalg.norm(jnp.subtract(x,x0), np.inf),jnp.linalg.norm(x, np.inf)) # Calculate: ||x_{n+1}-x_n||/||x_{n+1}||\n",
        "        # atol = np.linalg.norm(np.subtract(x[0],x0[0]), np.inf) # Calculate: ||x_{n+1}-x_n||\n",
        "        atol[k] = x[0]-x0[0]\n",
        "        btol[k] = x[1]-x0[1]        \n",
        "        # print(i, tol)             \n",
        "        if atol[k] < tol[0] and btol[k] < tol[1]:              # Check for convergence\n",
        "            #print(k)              \n",
        "            return x                # Return Result\n",
        "        x0 = x                      # Update x0 for Next iteration\n",
        "        # print(\"Newton: \", k, \"atol: \", atol, \"btol: \", btol)\n",
        "    # plt.plot(atol, N)\n",
        "    # plt.plot(btol, N)\n",
        "    # plt.show()\n",
        "    # plt.close()\n",
        "    # print(\"atol :\", atol[k])\n",
        "    # print('')\n",
        "    # print(\"Kappa: \", x[1])\n",
        "    print(\"Failed to converge\")     # Print Message if Convergence did not occur\n",
        "    return x0\n",
        "\n",
        "def stress_strain_relationship(temperature, number_partitions, max_elongation, eps_dot, shear_modulus, material_properties):\n",
        "    # df = pd.DataFrame(columns = columns)\n",
        "    df = pd.DataFrame(columns = final_columns)\n",
        "    time_step = max_elongation/eps_dot/number_partitions   # Time step [seconds]https://info.gordon.tufts.edu/en/innovation-management?utm_campaign=MSIM%20Enrollment%20AY20-21&utm_source=email&utm_content=SOE\n",
        "    T = temperature                                             # Temperature [Kelvin] (23°C)\n",
        "    # Material Constants\n",
        "    V = C[1] * jnp.exp(-C[2] / T)                               # [MPa]\n",
        "    f = C[5] * jnp.exp(-C[6] / T)                               # [1/s]\n",
        "    R_d = C[13] * jnp.exp(-C[14] / T)                           # [1/MPa]\n",
        "    H = C[15] * jnp.exp(C[16] / T)                              # [MPa]   Note: This eq. is different than the one from Dr. Cho, but it is what is used in this paper. This change approved by Dr. Cho                  \n",
        "    R_s = C[17] * jnp.exp(-C[18] / T)                           # [1/s*MPa]\n",
        "    mu = shear_modulus                                          # Shear modulus [MPa] \n",
        "    # Create Storage Arrays\n",
        "    sigma_n = np.zeros(number_partitions+1)                     # Initial value of stress (should be zero)\n",
        "    kappa_n = np.zeros(number_partitions+1)                     # Initial value of isotropic hardening (should be zero)\n",
        "    delta_eps_p_n = np.zeros(number_partitions+1)               # Initial value of plastic strain (should be zero)\n",
        "    # Begin Time-Iterations\n",
        "    for n in range(0,number_partitions):                        # nth timestep partition of strain subdivisions\n",
        "        delta_eps_e = eps_dot*time_step                         # Elastic strain increment [unitless]\n",
        "        delta_sigma_tr = 2*shear_modulus*delta_eps_e            # 2*mu is Lame's constant\n",
        "        sigma_tr = sigma_n[n] + delta_sigma_tr                  # Stress at next iteration is equal to stress at current iteration plus a change in stress\n",
        "        kappa_tr = (kappa_n[n]-(R_d*delta_eps_e+R_s*time_step)*kappa_n[n]**2)   # [MPa] Isotropic hardening JMD 11.11.2020 (plastic strain increment here should be equal to the total strain)\n",
        "        kappa_tr = np.maximum(kappa_tr, 0)\n",
        "        beta = V * jnp.arcsinh(eps_dot/f)                       # [MPa]\n",
        "        Y_f = sigma_tr-kappa_tr-beta                            # Yield function. Should be a function of stress, ISV's, and strain rate\n",
        "        State = \"\"                                              # Stores whether in plastic or elastic state ~ CWF 11-10-2020\n",
        "        # Start Radial Return\n",
        "        if Y_f <= 0:                                            # If less than zero, deformation is purely elastic\n",
        "            sigma_n1 = sigma_tr                                 # Stress at next iteration is equal to stress at current iteration plus a change in stress\n",
        "            delta_eps = delta_eps_e                             # Total strain is equal to the elastic strain\n",
        "            kappa_n1 = kappa_tr                                 # Elastic Strain does not change isotropic hardening\n",
        "            delta_eps_p_n1 = 0                                  # Elastic Strain, therefore no plastic strain\n",
        "            State = \"Elastic\"                                   # Store Material State ~ CWF 11-10-2020\n",
        "        else:                                                   # If yield function greater than zero, plasticity occurs. Must solve for plastic strain numerically\n",
        "            delta_eps_p_guess = delta_eps_p_n[n]                # Initial guess for plastic strain is previous plastic strain\n",
        "            kappa_guess = kappa_tr + H * delta_eps_p_guess      # Initial guess of future kappa with initial guess of future plastic strain\n",
        "            x_init = [delta_eps_p_guess, kappa_guess]           # Vector of initial guesses\n",
        "            def plasticity_funcs(delta_eps_and_kappa):          # Plasticity system of equations to vole\n",
        "                delta_eps_p = delta_eps_and_kappa[0]            # Decompose Vector containing delta_eps and kappa\n",
        "                kappa_n1 = delta_eps_and_kappa[1]               # Decompose Vector containing delta_eps and kappa\n",
        "                beta = V * jnp.arcsinh(delta_eps_p/time_step/f) # Calculate beta\n",
        "                sigma = sigma_tr-2*mu*delta_eps_p               # Calculate sigma\n",
        "                F1 = sigma-kappa_n1-beta                        # yield function   \n",
        "                F2 = kappa_n[n]+H*delta_eps_p-(R_d*delta_eps_p+R_s*time_step)*kappa_n1**2-kappa_n1 # isotropic hardening\n",
        "                Fs = jnp.asarray([F1, F2])                      # Write outputs to array\n",
        "                return Fs                                       # Return Array for NR iteration\n",
        "            res = multivariateNewton(plasticity_funcs, x_init, [0.1e-1,1e-7], 20)  # Perform Newton Method for System \"fs\" with guess  [x0,x1,x2] = [1,1,1] with tol = 1e-8 and N maximum iterations                          # Print \"fs\" output for system\n",
        "            delta_eps_p_n1 = res[0]                             # stores future delta_eps_p from Newton Raphson\n",
        "            sigma_n1 = sigma_tr - 2*mu * delta_eps_p_n1         # stores future stress\n",
        "            kappa_n1 = res[1]                                   # stores future kappa from Newton Raphson's F2\n",
        "            State = \"Plastic\"                                   # Store Material State ~ CWF 11-10-2020\n",
        "        # Update next Time step values\n",
        "        sigma_n[n+1] = sigma_n1\n",
        "        kappa_n[n+1] = kappa_n1\n",
        "        delta_eps_p_n[n+1] = delta_eps_p_n1\n",
        "        # Store values into DataFrame\n",
        "        df2 = pd.DataFrame([[sigma_n1, delta_eps_p_n1]], columns = final_columns)\n",
        "        # df2 = pd.DataFrame([[State, delta_sigma_tr, sigma_tr, kappa_tr, beta, sigma_n1, kappa_n1, delta_eps_p_n1]], columns = columns)  # Create dataframe of current state ~ ## CWF - 11102020 \n",
        "        df = pd.concat([df, df2], ignore_index=True)    # Added current state to global material history ~ ## CWF - 11102020 \n",
        "    # Perform Plotting\n",
        "    # plt.plot(eps_dot*time_step*np.arange(0, number_partitions ), df.loc[:,\"Sigma_n1\"])\n",
        "    # steady_state = np.sqrt(H*eps_dot/(R_d*eps_dot+R_s))\n",
        "    # plt.plot(eps_dot*time_step*np.arange(0, number_partitions + 1),np.ones(number_partitions+1)*steady_state)\n",
        "    # plt.xlabel('Strain')\n",
        "    # plt.ylabel('Stress [MPa]')\n",
        "    # plt.title('Viscoplastic Response of 7075-T651 Aluminum')\n",
        "    # plt.show()\n",
        "    return df"
      ],
      "execution_count": null,
      "outputs": []
    },
    {
      "cell_type": "code",
      "metadata": {
        "id": "gQ7YY8OUSxjH"
      },
      "source": [
        "temperature = 297\n",
        "number_time_steps = 400\n",
        "max_elongation = 0.2\n",
        "strain_rate = 3100\n",
        "shear_modulus = 26.9e3\n",
        "material_properties = C\n",
        "df1 = stress_strain_relationship(temperature,number_time_steps,max_elongation,strain_rate,shear_modulus,material_properties)"
      ],
      "execution_count": null,
      "outputs": []
    },
    {
      "cell_type": "markdown",
      "metadata": {
        "id": "k-Uu5wvwopqq"
      },
      "source": [
        "# Values from Salehghaffari:\n",
        "---\n",
        "| $\\dot{\\varepsilon}$ | $T$ |\n",
        "|--- | ---|\n",
        "| 3100 | 297 | \n",
        "| 0.1 | 297 |\n",
        "| 1300 | 297 | \n",
        "| 10 | 673 |\n",
        "| 0.01 | 673 |\n",
        "| 1 | 673 |\n",
        "| 2400 | 573 | \n",
        "| 3100 | 473 |"
      ]
    },
    {
      "cell_type": "code",
      "metadata": {
        "id": "4BiLhhRdTqTj",
        "colab": {
          "base_uri": "https://localhost:8080/",
          "height": 499
        },
        "outputId": "97fd5948-a98a-4d43-a752-a6af0cad5284"
      },
      "source": [
        "# plt.close()\n",
        "eps_297 =[3100,0.1,1300]\n",
        "T = 297\n",
        "N = 500\n",
        "max_elong = 0.2\n",
        "mu = 26.9e3\n",
        "results_export = pd.DataFrame(columns = list(map(lambda x: str(x), eps_297)))\n",
        "results_export[\"Step\"] = range(0, N)\n",
        "for i in range(0, len(eps_297)):\n",
        "    time_step = max_elong/eps_297[i]/N   # Time step [seconds]https://info.gordon.tufts.edu/en/innovation-management?utm_campaign=MSIM%20Enrollment%20AY20-21&utm_source=email&utm_content=SOE\n",
        "    V = C[1] * jnp.exp(-C[2] / T)                               # [MPa]\n",
        "    f = C[5] * jnp.exp(-C[6] / T)                               # [1/s]\n",
        "    R_d = C[13] * jnp.exp(-C[14] / T)                           # [1/MPa]\n",
        "    H = C[15] * jnp.exp(C[16] / T)                              # [MPa]   Note: This eq. is different than the one from Dr. Cho, but it is what is used in this paper. This change approved by Dr. Cho                  \n",
        "    R_s = C[17] * jnp.exp(-C[18] / T)                           # [1/s*MPa]\n",
        "    res = stress_strain_relationship(T, N, max_elong, eps_297[i], mu, C)\n",
        "    # print(eps_297[i])\n",
        "    steady_state = jnp.sqrt((H*eps_297[i])/(R_d*eps_297[i]+R_s))\n",
        "    print(\"H: \"+str(H*eps_297[i]))\n",
        "    print(\"R_d: \"+str(R_d*eps_297[i]+R_s))\n",
        "    print(\"Eps: \"+str(eps_297[i]))\n",
        "    print(steady_state)\n",
        "    plt.plot(eps_297[i]*time_step*np.arange(0, N), res[\"Sigma\"],label = str(eps_297[i])+\"/s\")\n",
        "    plt.plot(eps_297[i]*time_step*np.arange(0, N), np.ones(N)*steady_state, label = str(eps_297[i])+ \"/s Steady-State\")\n",
        "    results_export[str(eps_297[i])] = res[\"Sigma\"]\n",
        "\n",
        "plt.title('7075-T651 Al Stress-Strain Response with Various Strain Rates at 273 K')\n",
        "plt.xlabel('Strain')\n",
        "plt.ylabel('Stress [MPa]')\n",
        "# Overlaying experimental data from Salehghaffari paper   (JMD 11.19.20)\n",
        "K297_eps01 = [0.009031131, 0.012752634,\t0.016762956,\t0.021631353,\t0.025927447,\t0.030797749,\t0.034235386,\t0.038818012,\t0.04225603,\t0.046265209,\t0.050562064,\t0.053713168,\t0.058010785,\t0.062307259,\t0.066317581,\t0.070328665,\t0.07405093,\t0.0786347,\t0.083218469,\t0.086369573,\t0.090093361,\t0.095250197,\t0.098688215,\t0.103271604,\t0.107855373,\t0.112152228,\t0.116449846,\t0.121893596,\t0.12647889,\t0.131636488]\n",
        "K297_sig01 = [481.352955,\t493.3086681,\t497.2846976,\t506.5770234,\t513.2116774,\t515.8550607,\t518.5032068,\t525.1369082,\t526.4552659,\t534.4206609,\t538.3957378,\t541.0448365,\t542.3603365,\t547.6652019,\t551.6412314,\t552.957684,\t562.25382,\t564.8981559,\t567.5424918,\t570.1915905,\t574.1685726,\t576.8110033,\t578.129361,\t582.1034854,\t584.7478212,\t588.7228982,\t590.0383981,\t591.3500878,\t588.6752696,\t588.6581234]\n",
        "K297_eps1300 = [0.00360683,\t0.008278087,\t0.012658723,\t0.020256443,\t0.029316152,\t0.038377282,\t0.049191732,\t0.060005471,\t0.070530011,\t0.082515117,\t0.093915784,\t0.103563485,\t0.116134098,\t0.132213127,\t0.143613438,\t0.15823119,\t0.168756439,\t0.183373836,\t0.194775213,\t0.205300463]\n",
        "K297_sig1300 = [598.1773998,\t620.0486027,\t636.4520049,\t650.6682868,\t664.8845687,\t674.72661,\t687.8493317,\t703.1591738,\t708.6269745,\t718.4690158,\t727.217497,\t731.5917375,\t739.2466586,\t747.9951397,\t757.837181,\t764.3985419,\t767.6792224,\t775.3341434,\t781.8955043,\t785.1761847]\n",
        "K297_eps3100 = [0.004959082,\t0.012687478,\t0.018986636,\t0.032443791,\t0.048193974,\t0.067101356,\t0.085436816,\t0.105776483,\t0.126117675,\t0.144740429,\t0.161929756,\t0.179120606,\t0.203474787,\t0.221524475,\t0.24473138,\t0.266506,\t0.289999819,\t0.306904898]\n",
        "K297_sig3100 = [692.8026626,\t720.7025017,\t736.6390072,\t771.1687374,\t803.03127,\t816.2662854, 825.5138404,\t840.0738814,\t849.3147684,\t855.9017938,\t865.1531591,\t869.0853703,\t872.9937673,\t879.5826979,\t887.4842707,\t894.0608178,\t900.6316495,\t901.9052364]\n",
        "plt.scatter(K297_eps01,K297_sig01, marker= '.', color='b',label = 'Exp. Data at 273 K and 0.1/s')     # Formatting data points as blue circles\n",
        "plt.scatter(K297_eps1300,K297_sig1300, marker= '.', color='k',label = 'Exp. Data at 273 K and 1300/s') # Formatting data points as black circles\n",
        "plt.scatter(K297_eps3100,K297_sig3100, marker='.', color='g',label = 'Exp. Data at 273 K and 3100/s')  # Green circles for T = 297 K, eps_dot = 3100\n",
        "plt.legend(loc = 'center right')\n",
        "plt.xlim(0,0.3)\n",
        "plt.ylim(0,1000)\n",
        "plt.savefig(\"temp_273.png\")\n",
        "results_export.to_csv(str(T)+\"_stress_strain.csv\")"
      ],
      "execution_count": null,
      "outputs": [
        {
          "output_type": "stream",
          "text": [
            "H: 3551584204.7627816\n",
            "R_d: 6857.863246986751\n",
            "Eps: 3100\n",
            "719.6422415556865\n",
            "H: 114567.23241170263\n",
            "R_d: 1.2611305096371959\n",
            "Eps: 0.1\n",
            "301.40482113323606\n",
            "H: 1489374021.3521342\n",
            "R_d: 2876.481973507347\n",
            "Eps: 1300\n",
            "719.5667031186184\n"
          ],
          "name": "stdout"
        },
        {
          "output_type": "display_data",
          "data": {
            "image/png": "[encoded data removed]",
            "text/plain": [
              "<Figure size 432x288 with 1 Axes>"
            ]
          },
          "metadata": {
            "tags": [],
            "needs_background": "light"
          }
        }
      ]
    },
    {
      "cell_type": "code",
      "metadata": {
        "colab": {
          "base_uri": "https://localhost:8080/",
          "height": 237
        },
        "id": "t_8cZEUcEm14",
        "outputId": "6911e410-165c-4121-a690-1b2032f1ba5a"
      },
      "source": [
        "eps_473 =[3100]\n",
        "T = 473\n",
        "N = 500\n",
        "max_elong = 0.2\n",
        "mu = 26.9e3\n",
        "results_export = pd.DataFrame(columns = list(map(lambda x: str(x), eps_473)))\n",
        "results_export[\"Step\"] = range(0, N)\n",
        "for i in range(0, len(eps_473)):\n",
        "    time_step = max_elong/eps_473[i]/N                          # Time step [seconds]\n",
        "    V = C[1] * jnp.exp(-C[2] / T)                               # [MPa]\n",
        "    f = C[5] * jnp.exp(-C[6] / T)                               # [1/s]\n",
        "    R_d = C[13] * jnp.exp(-C[14] / T)                           # [1/MPa]\n",
        "    H = C[15] * jnp.exp(C[16] / T)                              # [MPa]   Note: This eq. is different than the one from Dr. Cho, but it is what is used in this paper. This change approved by Dr. Cho                  \n",
        "    R_s = C[17] * jnp.exp(-C[18] / T)                           # [1/s*MPa]\n",
        "    res = stress_strain_relationship(T, N, max_elong, eps_473[i], mu, C)\n",
        "    # print(eps_297[i])\n",
        "    steady_state = jnp.sqrt((H*eps_473[i])/(R_d*eps_473[i]+R_s))\n",
        "    print('Steady State ', steady_state)\n",
        "    # print(\"H: \"+str(H*eps_673[i]))\n",
        "    # print(\"R_d: \"+str(R_d*eps_673[i]+R_s))\n",
        "    print(\"Eps: \"+str(eps_473[i]))\n",
        "    # print(steady_state)\n",
        "    plt.plot(eps_473[i]*time_step*np.arange(0, N), res[\"Sigma\"],label = str(eps_473[i])+\" 1/s\")\n",
        "    plt.plot(eps_473[i]*time_step*np.arange(0, N), np.ones(N)*steady_state, label = str(eps_473[i])+ \" 1/s Steady-State\")\n",
        "    results_export[str(eps_473[i])] = res[\"Sigma\"]\n",
        "\n",
        "plt.title('7075-T651 Al Viscoplastic Response with Various Strain Rates at 473 K')\n",
        "plt.xlabel('Strain')\n",
        "plt.ylabel('Stress [MPa]')\n",
        "K473_eps3100 = [0.003370922,\t0.008919727,\t0.016809135,\t0.026455416,\t0.03990251,\t0.05832001,\t0.074108418,\t0.094865454,\t0.12205666,\t0.153339657,\t0.188132847,\t0.227312002,\t0.253042641,\t0.285497716,\t0.29982449]\n",
        "K473_sig1300 = [424.3013366,\t445.0789793,\t461.4823815,\t470.2308627,\t480.072904,\t491.0085055,\t494.2891859,\t504.1312272,\t509.5990279,\t520.5346294,\t527.0959903,\t533.6573512,\t534.7509113,\t538.0315917,\t540.218712]\n",
        "plt.scatter(K473_eps3100,K473_sig1300, marker = '.', color = 'b', label = 'Exp. Data at 473 K and 3100/s')\n",
        "plt.legend()\n",
        "plt.grid()\n",
        "plt.xlim(0,0.3)\n",
        "plt.ylim(0,1000)\n",
        "plt.savefig(\"temp_473.png\")\n",
        "results_export.to_csv(str(T)+\"_stress_strain.csv\")"
      ],
      "execution_count": 1,
      "outputs": [
        {
          "output_type": "error",
          "ename": "NameError",
          "evalue": "ignored",
          "traceback": [
            "\u001b[0;31m---------------------------------------------------------------------------\u001b[0m",
            "\u001b[0;31mNameError\u001b[0m                                 Traceback (most recent call last)",
            "\u001b[0;32m<ipython-input-1-b968297b4926>\u001b[0m in \u001b[0;36m<module>\u001b[0;34m()\u001b[0m\n\u001b[1;32m      4\u001b[0m \u001b[0mmax_elong\u001b[0m \u001b[0;34m=\u001b[0m \u001b[0;36m0.2\u001b[0m\u001b[0;34m\u001b[0m\u001b[0;34m\u001b[0m\u001b[0m\n\u001b[1;32m      5\u001b[0m \u001b[0mmu\u001b[0m \u001b[0;34m=\u001b[0m \u001b[0;36m26.9e3\u001b[0m\u001b[0;34m\u001b[0m\u001b[0;34m\u001b[0m\u001b[0m\n\u001b[0;32m----> 6\u001b[0;31m \u001b[0mresults_export\u001b[0m \u001b[0;34m=\u001b[0m \u001b[0mpd\u001b[0m\u001b[0;34m.\u001b[0m\u001b[0mDataFrame\u001b[0m\u001b[0;34m(\u001b[0m\u001b[0mcolumns\u001b[0m \u001b[0;34m=\u001b[0m \u001b[0mlist\u001b[0m\u001b[0;34m(\u001b[0m\u001b[0mmap\u001b[0m\u001b[0;34m(\u001b[0m\u001b[0;32mlambda\u001b[0m \u001b[0mx\u001b[0m\u001b[0;34m:\u001b[0m \u001b[0mstr\u001b[0m\u001b[0;34m(\u001b[0m\u001b[0mx\u001b[0m\u001b[0;34m)\u001b[0m\u001b[0;34m,\u001b[0m \u001b[0meps_473\u001b[0m\u001b[0;34m)\u001b[0m\u001b[0;34m)\u001b[0m\u001b[0;34m)\u001b[0m\u001b[0;34m\u001b[0m\u001b[0;34m\u001b[0m\u001b[0m\n\u001b[0m\u001b[1;32m      7\u001b[0m \u001b[0mresults_export\u001b[0m\u001b[0;34m[\u001b[0m\u001b[0;34m\"Step\"\u001b[0m\u001b[0;34m]\u001b[0m \u001b[0;34m=\u001b[0m \u001b[0mrange\u001b[0m\u001b[0;34m(\u001b[0m\u001b[0;36m0\u001b[0m\u001b[0;34m,\u001b[0m \u001b[0mN\u001b[0m\u001b[0;34m)\u001b[0m\u001b[0;34m\u001b[0m\u001b[0;34m\u001b[0m\u001b[0m\n\u001b[1;32m      8\u001b[0m \u001b[0;32mfor\u001b[0m \u001b[0mi\u001b[0m \u001b[0;32min\u001b[0m \u001b[0mrange\u001b[0m\u001b[0;34m(\u001b[0m\u001b[0;36m0\u001b[0m\u001b[0;34m,\u001b[0m \u001b[0mlen\u001b[0m\u001b[0;34m(\u001b[0m\u001b[0meps_473\u001b[0m\u001b[0;34m)\u001b[0m\u001b[0;34m)\u001b[0m\u001b[0;34m:\u001b[0m\u001b[0;34m\u001b[0m\u001b[0;34m\u001b[0m\u001b[0m\n",
            "\u001b[0;31mNameError\u001b[0m: name 'pd' is not defined"
          ]
        }
      ]
    },
    {
      "cell_type": "code",
      "metadata": {
        "id": "PTp74Gesa4_b",
        "colab": {
          "base_uri": "https://localhost:8080/",
          "height": 397
        },
        "outputId": "57565039-061a-4314-923b-62a39762e617"
      },
      "source": [
        "np.sqrt(H*3100/(R_d*3100+R_s))# plt.close()\n",
        "eps_673 = [10,0.01,1]\n",
        "T = 673\n",
        "N = 600\n",
        "max_elong = 0.2\n",
        "mu = 26.9e3\n",
        "results_export = pd.DataFrame(columns = list(map(lambda x: str(x), eps_297)))\n",
        "results_export[\"Step\"] = range(0, N)\n",
        "for i in range(0, len(eps_673)):\n",
        "    time_step = max_elong/eps_673[i]/N   # Time step [seconds]\n",
        "    V = C[1] * jnp.exp(-C[2] / T)                               # [MPa]\n",
        "    f = C[5] * jnp.exp(-C[6] / T)                               # [1/s]\n",
        "    R_d = C[13] * jnp.exp(-C[14] / T)                           # [1/MPa]\n",
        "    H = C[15] * jnp.exp(C[16] / T)                              # [MPa]   Note: This eq. is different than the one from Dr. Cho, but it is what is used in this paper. This change approved by Dr. Cho                  \n",
        "    R_s = C[17] * jnp.exp(-C[18] / T)                           # [1/s*MPa]\n",
        "    res = stress_strain_relationship(T, N, max_elong, eps_673[i], mu, C)\n",
        "    # print(eps_297[i])\n",
        "    steady_state = ((H*eps_673[i])/(R_d*eps_673[i]+R_s))**0.5\n",
        "    print('Steady State ', steady_state)\n",
        "    # print(\"H: \"+str(H*eps_673[i]))\n",
        "    # print(\"R_d: \"+str(R_d*eps_673[i]+R_s))\n",
        "    print(\"Eps: \"+str(eps_673[i]))\n",
        "    # print(steady_state)\n",
        "    plt.plot(eps_673[i]*time_step*np.arange(0, N), res[\"Sigma\"],label = str(eps_673[i])+\" 1/s\")\n",
        "    plt.plot(eps_673[i]*time_step*np.arange(0, N), np.ones(N)*steady_state, label = str(eps_673[i])+ \" 1/s Steady-State\")\n",
        "    results_export[str(eps_673[i])] = res[\"Sigma\"]\n",
        "\n",
        "plt.title('7075-T651 Al Stress-Strain Response with Various Strain Rates at 673 K')\n",
        "plt.xlabel('Strain')\n",
        "plt.ylabel('Stress [MPa]')\n",
        "K673_eps001 = [0.03006808,\t0.043821675,\t0.060727135,\t0.077344919,\t0.091099657,\t0.109723936,\t0.134938859,\t0.157002299,\t0.399696702]\n",
        "K673_sig001 = [62.40003963,\t62.35431624,\t62.29811458,\t66.23223099,\t62.1971421,\t63.46501351,\t63.3811873,\t61.97805087,\t58.5116466]\n",
        "K673_eps1 = [0.030967506,\t0.045290728,\t0.062246595,\t0.09207009,\t0.13095969,\t0.187978655,\t0.2517217,\t0.331545906]\n",
        "K673_sig1 = [82.01701094,\t95.13973269,\t104.981774,\t108.2624544,\t106.0753341,\t101.7010936,\t100.6075334,\t101.7010936]\n",
        "K673_eps10 = [0.129191811,\t0.165294235,\t0.214577568,\t0.293374967,\t0.389937426]\n",
        "K673_sig10 = [120.5811442,\t123.1206974,\t124.2866437,\t121.3651098,\t118.3845165]\n",
        "plt.scatter(K673_eps001,K673_sig001, marker = '.', color = 'b', label = 'Exp. Data at 673 K and 0.01/s')\n",
        "plt.scatter(K673_eps1,K673_sig1, marker = '.', color = 'k', label = 'Exp. Data at 673 K and 1/s')\n",
        "plt.scatter(K673_eps10,K673_sig10, marker = '.', color = 'g', label = 'Exp. Data at 673 K and 10/s')\n",
        "plt.legend()\n",
        "plt.xlim(0,0.3)\n",
        "plt.ylim(0,300)\n",
        "plt.savefig(\"temp_673.png\")\n",
        "results_export.to_csv(str(T)+\"_stress_strain.csv\")"
      ],
      "execution_count": null,
      "outputs": [
        {
          "output_type": "stream",
          "text": [
            "Steady State  109.65578938966341\n",
            "Eps: 10\n",
            "Steady State  3.565492268816528\n",
            "Eps: 0.01\n",
            "Steady State  35.55421608678236\n",
            "Eps: 1\n"
          ],
          "name": "stdout"
        },
        {
          "output_type": "display_data",
          "data": {
            "image/png": "[encoded data removed]",
            "text/plain": [
              "<Figure size 432x288 with 1 Axes>"
            ]
          },
          "metadata": {
            "tags": [],
            "needs_background": "light"
          }
        }
      ]
    },
    {
      "cell_type": "code",
      "metadata": {
        "id": "QYX7fsauVoHl"
      },
      "source": [
        ""
      ],
      "execution_count": null,
      "outputs": []
    }
  ]
}
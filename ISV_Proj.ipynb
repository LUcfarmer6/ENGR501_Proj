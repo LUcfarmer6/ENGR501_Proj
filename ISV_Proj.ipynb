{
  "nbformat": 4,
  "nbformat_minor": 0,
  "metadata": {
    "colab": {
      "name": "Untitled0.ipynb",
      "provenance": [],
      "authorship_tag": "ABX9TyNq8K5ZbPORBl6qo+YsXGqh",
      "include_colab_link": true
    },
    "kernelspec": {
      "name": "python3",
      "display_name": "Python 3"
    }
  },
  "cells": [
    {
      "cell_type": "markdown",
      "metadata": {
        "id": "view-in-github",
        "colab_type": "text"
      },
      "source": [
        "<a href=\"https://colab.research.google.com/github/LUcfarmer6/Numerical_Methods_Proj/blob/master/ISV_Proj.ipynb\" target=\"_parent\"><img src=\"https://colab.research.google.com/assets/colab-badge.svg\" alt=\"Open In Colab\"/></a>"
      ]
    },
    {
      "cell_type": "markdown",
      "metadata": {
        "id": "kxc5UOD7Sg6s"
      },
      "source": [
        "--------------------------------------------------------------\n",
        "   # Numerical Methods ISV Model Using Newton-Raphson Method\n",
        "--------------------------------------------------------------\n",
        "\n",
        "Description:\n",
        "This model utilizes a set of material constants (C_n through C_m)\n",
        "along with inputs of strain rate and time step to calculate and predict\n",
        "an accurate stress-strain curve for that given material. This is a\n",
        "viscoplastic model (strain-rate sensitive) that uses a Radial-Return\n",
        "scheme to predict deformation elastically, and then correct for any plastic\n",
        "deformation that also occurs. Plastic deformation behavior is governed by\n",
        "the Flow Rule and Isotropic Hardening. These equations may be solved either\n",
        "analytically or numerically (using the Newton-Raphson (N-R) method). The analytical\n",
        "method will be solved first, requiring a much smaller time step for\n",
        "accuracy, while the N-R method is solved second which retains accuracy at\n",
        "much greater time steps. The two methods are then compared and tested to\n",
        "optimize time step, computational time, and accuracy of the resulting curve."
      ]
    },
    {
      "cell_type": "code",
      "metadata": {
        "id": "2kQ9bTiySlRy",
        "outputId": "95eee70c-5298-41f0-9ace-dd2fd16ddd23",
        "colab": {
          "base_uri": "https://localhost:8080/"
        }
      },
      "source": [
        "import numpy as np\n",
        "import jax\n",
        "import jax.numpy as jnp\n",
        "from jax import jit, vmap, grad\n",
        "import timeit\n",
        "from matplotlib import pyplot as plt\n",
        "plt.close('all')\n",
        "print('Done')"
      ],
      "execution_count": 3,
      "outputs": [
        {
          "output_type": "stream",
          "text": [
            "Done\n"
          ],
          "name": "stdout"
        }
      ]
    },
    {
      "cell_type": "markdown",
      "metadata": {
        "id": "2h2xYOizStze"
      },
      "source": [
        "## Model Constants"
      ]
    },
    {
      "cell_type": "code",
      "metadata": {
        "id": "WyHKIaQXSyFt"
      },
      "source": [
        "eps_dot = 0.1*2        # Strain Rate in Units [1/s]\n",
        "perc_elong = 0.11*2     # percent elongation [%] / 100\n",
        "N_partitions = 500\n",
        "time_step = perc_elong/eps_dot/N_partitions   # Time step [seconds]\n",
        "T = 296             # Temperature [Kelvin] (23°C)\n",
        "C = np.ones(19)\n",
        "# sigma_n = jnp.zeros(N_partitions)           # Initial value of stress (should be zero)\n",
        "sigma_n = [0.0]\n",
        "kappa_n = [0.0]\n",
        "delta_eps_p_n = [0.0]\n",
        "# kappa_n = jnp.zeros(N_partitions)           # Initial value of kappa\n",
        "# delta_eps_p_n = jnp.zeros(N_partitions)     # Initial guess for plastic strain\n",
        "mu = 26.9e3                                      # Shear modulus [GPa] "
      ],
      "execution_count": 5,
      "outputs": []
    },
    {
      "cell_type": "markdown",
      "metadata": {
        "id": "cQE06HqaS4Up"
      },
      "source": [
        "For Aluminim from Baunman"
      ]
    },
    {
      "cell_type": "code",
      "metadata": {
        "id": "mtmnn9EMS3kC"
      },
      "source": [
        "C[1] = 312.86\n",
        "C[2] = 154.78\n",
        "C[3] = 27.2\n",
        "C[4] = 818.26\n",
        "C[5] = 6914.1\n",
        "C[6] = 233.39\n",
        "C[7] = 9\n",
        "C[8] = 1632.34\n",
        "C[9] = 148.36\n",
        "C[10] = 942.28\n",
        "C[11] = 100.672\n",
        "C[12] = 2517.12\n",
        "C[13] = 98.53\n",
        "C[14] = 171.56\n",
        "C[15] = 8950.63\n",
        "C[16] = 279.18\n",
        "C[17] = 7363.75\n",
        "C[18] = 3316.82"
      ],
      "execution_count": 6,
      "outputs": []
    },
    {
      "cell_type": "markdown",
      "metadata": {
        "id": "1nEpA-wUTAgk"
      },
      "source": [
        "Equation constants"
      ]
    },
    {
      "cell_type": "code",
      "metadata": {
        "id": "n0kHxrb0S9sG"
      },
      "source": [
        "V = C[1] * jnp.exp(-C[2] / T)\n",
        "f = C[5] * jnp.exp(-C[6] / T)\n",
        "R_d = C[13] * jnp.exp(-C[14] / T)\n",
        "H = C[15] - C[16] * T\n",
        "R_s = C[17] * jnp.exp(-C[18] / T)"
      ],
      "execution_count": null,
      "outputs": []
    },
    {
      "cell_type": "markdown",
      "metadata": {
        "id": "lhfJvjDITLHR"
      },
      "source": [
        "# Radial Return Function"
      ]
    },
    {
      "cell_type": "code",
      "metadata": {
        "id": "SBmvgSAdTIn4"
      },
      "source": [
        "def radialReturn(sigma_n, delta_eps_p_n, kappa_n):          # Defines function inputs from main logical loop\n",
        "    # sigma_tr_n: trial stress from current time iteration\n",
        "    # kappa_n: kappa from current time iteration\n",
        "    # kappa_n1: guess for kappa at next timestep iteration\n",
        "\n",
        "    # First making Elastic prediction\n",
        "    delta_eps_e = eps_dot*time_step             # Elastic strain increment\n",
        "    delta_sigma_tr = 2*mu*delta_eps_e           # Hooke's Law (2*mu = E)\n",
        "    sigma_tr = sigma_n + delta_sigma_tr  # Stress at next iteration is equal to stress at current iteration plus a change in stress\n",
        "    print(sigma_tr)\n",
        "    # kappa_tr = kappa_n-(R_d*delta_eps_p_n+R_s*time_step)*kappa_n**2\n",
        "    kappa_tr = kappa_n-(R_d*delta_eps_e+R_s*time_step)*kappa_n**2\n",
        "    # beta = V * jnp.arcsinh(delta_eps_p_n/time_step/f)\n",
        "    beta = V * jnp.arcsinh(eps_dot/f)\n",
        "    Y_f = sigma_tr-kappa_tr-beta                # Yield function. Should be a function of stress, ISV's, and strain rate\n",
        "\n",
        "    if Y_f <= 0:                                # If less than zero, deformation is purely elastic\n",
        "        sigma_n1 = sigma_tr                     # Stress at next iteration is equal to stress at current iteration plus a change in stress\n",
        "        delta_eps = delta_eps_e  # Total strain is equal to the elastic strain\n",
        "        kappa_n1 = kappa_tr\n",
        "        delta_eps_p_n1 = 0\n",
        "        print(\"ELASTIC\")\n",
        "    else:                                       # If yield function greater than zero, plasticity occurs. Must solve for plastic strain numerically\n",
        "        # (reference the N-R method function here so solve plastic strain)\n",
        "        delta_eps_p_n1 = delta_eps_p_n  # initial guess for plastic strain is previous plastic strain\n",
        "        kappa_n1 = kappa_tr + H * delta_eps_p_n1   # initial guess of future kappa with initial guess of future plastic strain\n",
        "        xs = [delta_eps_p_n1, kappa_n1]    # vector of future guesses\n",
        "        def fs(x):\n",
        "            result = plasticity(x, sigma_tr, kappa_tr, kappa_n, delta_eps_p_n)  # input \"xs\" returns array \"fs\"\n",
        "            return result\n",
        "        res = multivariateNewton(fs, xs, 1e-5, 30) # Perform Newton Method for System \"fs\" with guess  [x0,x1,x2] = [1,1,1] with tol = 1e-8 and N maximum iterations\n",
        "        # print(fs(res))                  # Print \"fs\" output for system\n",
        "        delta_eps_p_n1 = res[0]         # proclaims future delta_eps_p from Newton Raphson\n",
        "        sigma_n1 = sigma_tr - 2 * mu * delta_eps_p_n1  # proclaims future stress\n",
        "        # print(sigma_n1)\n",
        "        kappa_n1 = res[1]  # proclaims future kappa from Newton Raphson's F2\n",
        "        print(\"I AM PLASTIC\")\n",
        "    return [sigma_n1, kappa_n1, delta_eps_p_n1]"
      ],
      "execution_count": 7,
      "outputs": []
    },
    {
      "cell_type": "markdown",
      "metadata": {
        "id": "AkAdvwnZTQ4L"
      },
      "source": [
        "# Plasticity function for Solving"
      ]
    },
    {
      "cell_type": "code",
      "metadata": {
        "id": "iBedyKKKTPL2"
      },
      "source": [
        "def plasticity(x, sigma_tr, kappa_tr, kappa_n, delta_eps_P_n):  # solves using yield function and isotropic hardening equation\n",
        "    delta_eps_p = x[0]\n",
        "    kappa_n1 = x[1]\n",
        "    beta = V * jnp.arcsinh(delta_eps_p/time_step/f)\n",
        "    F1 = sigma_tr-kappa_tr-beta # yield function\n",
        "    F2 = kappa_n-(R_d*delta_eps_p+R_s*time_step)*kappa_n1**2-kappa_n1\n",
        "    fs = jnp.asarray([F1, F2])  # Write outputs to function array for logical loop\n",
        "    return fs"
      ],
      "execution_count": 8,
      "outputs": []
    },
    {
      "cell_type": "markdown",
      "metadata": {
        "id": "YfBIwmAdTery"
      },
      "source": [
        "# Multivariate Newton"
      ]
    },
    {
      "cell_type": "code",
      "metadata": {
        "id": "pF47qsYkTVpf"
      },
      "source": [
        "def multivariateNewton(f, x0, tol, N):\n",
        "    x0 = jnp.asarray(x0).T          # Convert Input Array to Jax Array\n",
        "    def J_inv(x):                   # Create Inverse Jacobian Function\n",
        "        jacobian = jax.jacfwd(f)    # Calculate the jacobian function from the provided systems with Forward Auto-differentiation\n",
        "        J = jacobian(x)  # Calculate the Jacobian at x\n",
        "        J_inv = jnp.linalg.inv(J)   # Calculate the Inverse Jacobian\n",
        "        return jnp.asarray(J_inv)   # Return Inverse Jacobian at x as a Jax Array\n",
        "    for k in range(1,N):            # Start Loop for Maximum Iterations\n",
        "        x = jnp.subtract(x0, jnp.matmul(J_inv(x0), f(x0).T)) # Perform Newton Iteration: x_{n+1} = x_n-J^(-1)*f\n",
        "        # reltol = jnp.divide(jnp.linalg.norm(jnp.subtract(x,x0), np.inf),jnp.linalg.norm(x, np.inf)) # Calculate: ||x_{n+1}-x_n||/||x_{n+1}||\n",
        "        atol = jnp.linalg.norm(jnp.subtract(x,x0), np.inf) # Calculate: ||x_{n+1}-x_n||/||x_{n+1}||\n",
        "        # print(i, tol)             # Print iteration and relTol\n",
        "        if atol < tol:              # Check for convergence\n",
        "            print(k)              # Print Result\n",
        "            return x                # Return Result\n",
        "        x0 = x                      # Update x0 for Next iteration\n",
        "    print(\"Failed to converge\")     # Print Message if Convergence did not occur"
      ],
      "execution_count": 11,
      "outputs": []
    },
    {
      "cell_type": "markdown",
      "metadata": {
        "id": "t8kbb90MTmMQ"
      },
      "source": [
        "# Create Stress-Strain Curve"
      ]
    },
    {
      "cell_type": "code",
      "metadata": {
        "id": "Lgb3IepETXya",
        "outputId": "b0246a5b-9b6a-40fc-d977-4808077e487f",
        "colab": {
          "base_uri": "https://localhost:8080/",
          "height": 377
        }
      },
      "source": [
        "## Main Logical Loop to build Stress-Strain curve\n",
        "for n in range(0,N_partitions):       # nth timestep partition of strain subdivisions\n",
        "    # sigma_n = sigma_n1              # makes current stress from previous future stress\n",
        "    # delta_eps_p_n = delta_eps_p_n1  # delta_eps_p_k, initially 0, should be output at end of current iteration for future iteration\n",
        "    # kappa_n = kappa_n1              # makes current kappa from previous future kappa\n",
        "    # print(sigma_n[n])\n",
        "    sigma_n1, kappa_n1, delta_eps_p_n1 = radialReturn(sigma_n[-1], delta_eps_p_n[-1], kappa_n[-1])  # calls function with current stress and kappa\n",
        "    # jax.ops.index_update(sigma_n, jax.ops.index[n+1],sigma_n1)\n",
        "    sigma_n.append(sigma_n1)\n",
        "    # print(delta_eps_p_n[n+1])\n",
        "    delta_eps_p_n.append(delta_eps_p_n1)\n",
        "    # jax.ops.index_update(delta_eps_p_n, jax.ops.index[n+1],delta_eps_p_n1)\n",
        "    kappa_n.append(kappa_n1)\n",
        "    # jax.ops.index_update(kappa_n, jax.ops.index[n + 1], kappa_n1)\n",
        "    # print(sigma_n)\n",
        "    # print(delta_eps_p_n)\n",
        "    # print(n)\n",
        "# plot stress-strain curve\n",
        "# converts x-axis from partitions to total strain applied\n",
        "plt.plot(time_step*np.arange(0, N_partitions+1)/eps_dot, sigma_n)\n",
        "plt.show()\n",
        "## End of Document\n",
        "# that's all folks!\n"
      ],
      "execution_count": 12,
      "outputs": [
        {
          "output_type": "stream",
          "text": [
            "23.671999999999997\n"
          ],
          "name": "stdout"
        },
        {
          "output_type": "error",
          "ename": "NameError",
          "evalue": "ignored",
          "traceback": [
            "\u001b[0;31m---------------------------------------------------------------------------\u001b[0m",
            "\u001b[0;31mNameError\u001b[0m                                 Traceback (most recent call last)",
            "\u001b[0;32m<ipython-input-12-f619169a0cd8>\u001b[0m in \u001b[0;36m<module>\u001b[0;34m()\u001b[0m\n\u001b[1;32m      5\u001b[0m     \u001b[0;31m# kappa_n = kappa_n1              # makes current kappa from previous future kappa\u001b[0m\u001b[0;34m\u001b[0m\u001b[0;34m\u001b[0m\u001b[0;34m\u001b[0m\u001b[0m\n\u001b[1;32m      6\u001b[0m     \u001b[0;31m# print(sigma_n[n])\u001b[0m\u001b[0;34m\u001b[0m\u001b[0;34m\u001b[0m\u001b[0;34m\u001b[0m\u001b[0m\n\u001b[0;32m----> 7\u001b[0;31m     \u001b[0msigma_n1\u001b[0m\u001b[0;34m,\u001b[0m \u001b[0mkappa_n1\u001b[0m\u001b[0;34m,\u001b[0m \u001b[0mdelta_eps_p_n1\u001b[0m \u001b[0;34m=\u001b[0m \u001b[0mradialReturn\u001b[0m\u001b[0;34m(\u001b[0m\u001b[0msigma_n\u001b[0m\u001b[0;34m[\u001b[0m\u001b[0;34m-\u001b[0m\u001b[0;36m1\u001b[0m\u001b[0;34m]\u001b[0m\u001b[0;34m,\u001b[0m \u001b[0mdelta_eps_p_n\u001b[0m\u001b[0;34m[\u001b[0m\u001b[0;34m-\u001b[0m\u001b[0;36m1\u001b[0m\u001b[0;34m]\u001b[0m\u001b[0;34m,\u001b[0m \u001b[0mkappa_n\u001b[0m\u001b[0;34m[\u001b[0m\u001b[0;34m-\u001b[0m\u001b[0;36m1\u001b[0m\u001b[0;34m]\u001b[0m\u001b[0;34m)\u001b[0m  \u001b[0;31m# calls function with current stress and kappa\u001b[0m\u001b[0;34m\u001b[0m\u001b[0;34m\u001b[0m\u001b[0m\n\u001b[0m\u001b[1;32m      8\u001b[0m     \u001b[0;31m# jax.ops.index_update(sigma_n, jax.ops.index[n+1],sigma_n1)\u001b[0m\u001b[0;34m\u001b[0m\u001b[0;34m\u001b[0m\u001b[0;34m\u001b[0m\u001b[0m\n\u001b[1;32m      9\u001b[0m     \u001b[0msigma_n\u001b[0m\u001b[0;34m.\u001b[0m\u001b[0mappend\u001b[0m\u001b[0;34m(\u001b[0m\u001b[0msigma_n1\u001b[0m\u001b[0;34m)\u001b[0m\u001b[0;34m\u001b[0m\u001b[0;34m\u001b[0m\u001b[0m\n",
            "\u001b[0;32m<ipython-input-7-143ec445ffca>\u001b[0m in \u001b[0;36mradialReturn\u001b[0;34m(sigma_n, delta_eps_p_n, kappa_n)\u001b[0m\n\u001b[1;32m     10\u001b[0m     \u001b[0mprint\u001b[0m\u001b[0;34m(\u001b[0m\u001b[0msigma_tr\u001b[0m\u001b[0;34m)\u001b[0m\u001b[0;34m\u001b[0m\u001b[0;34m\u001b[0m\u001b[0m\n\u001b[1;32m     11\u001b[0m     \u001b[0;31m# kappa_tr = kappa_n-(R_d*delta_eps_p_n+R_s*time_step)*kappa_n**2\u001b[0m\u001b[0;34m\u001b[0m\u001b[0;34m\u001b[0m\u001b[0;34m\u001b[0m\u001b[0m\n\u001b[0;32m---> 12\u001b[0;31m     \u001b[0mkappa_tr\u001b[0m \u001b[0;34m=\u001b[0m \u001b[0mkappa_n\u001b[0m\u001b[0;34m-\u001b[0m\u001b[0;34m(\u001b[0m\u001b[0mR_d\u001b[0m\u001b[0;34m*\u001b[0m\u001b[0mdelta_eps_e\u001b[0m\u001b[0;34m+\u001b[0m\u001b[0mR_s\u001b[0m\u001b[0;34m*\u001b[0m\u001b[0mtime_step\u001b[0m\u001b[0;34m)\u001b[0m\u001b[0;34m*\u001b[0m\u001b[0mkappa_n\u001b[0m\u001b[0;34m**\u001b[0m\u001b[0;36m2\u001b[0m\u001b[0;34m\u001b[0m\u001b[0;34m\u001b[0m\u001b[0m\n\u001b[0m\u001b[1;32m     13\u001b[0m     \u001b[0;31m# beta = V * jnp.arcsinh(delta_eps_p_n/time_step/f)\u001b[0m\u001b[0;34m\u001b[0m\u001b[0;34m\u001b[0m\u001b[0;34m\u001b[0m\u001b[0m\n\u001b[1;32m     14\u001b[0m     \u001b[0mbeta\u001b[0m \u001b[0;34m=\u001b[0m \u001b[0mV\u001b[0m \u001b[0;34m*\u001b[0m \u001b[0mjnp\u001b[0m\u001b[0;34m.\u001b[0m\u001b[0marcsinh\u001b[0m\u001b[0;34m(\u001b[0m\u001b[0meps_dot\u001b[0m\u001b[0;34m/\u001b[0m\u001b[0mf\u001b[0m\u001b[0;34m)\u001b[0m\u001b[0;34m\u001b[0m\u001b[0;34m\u001b[0m\u001b[0m\n",
            "\u001b[0;31mNameError\u001b[0m: name 'R_d' is not defined"
          ]
        }
      ]
    },
    {
      "cell_type": "code",
      "metadata": {
        "id": "4BiLhhRdTqTj"
      },
      "source": [
        ""
      ],
      "execution_count": null,
      "outputs": []
    }
  ]
}